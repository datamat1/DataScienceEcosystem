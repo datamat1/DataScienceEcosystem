{
 "cells": [
  {
   "cell_type": "markdown",
   "id": "6777bad3",
   "metadata": {},
   "source": [
    "<! Exercise 1: Create a Jupyter Notebook\n",
    "\n",
    "Create a new Jupyter notebook called DataScienceEcosystem.ipynb>\n",
    "\n"
   ]
  },
  {
   "cell_type": "markdown",
   "id": "55949e11",
   "metadata": {},
   "source": [
    "<! Exercise 2: Create markdown cell with title of the notebook\n",
    "\n",
    "Create a markdown cell with the title Data Science Tools and Ecosystem using H1 style heading.>\n",
    "\n",
    "# Data Science Ecosystem"
   ]
  },
  {
   "cell_type": "markdown",
   "id": "3513e9d9",
   "metadata": {},
   "source": [
    "<!Exercise 3 - Create a markdown cell for an introduction. Write an introductory sentence about the notebook such as the follows:>\n"
   ]
  },
  {
   "cell_type": "markdown",
   "id": "953035d4",
   "metadata": {},
   "source": [
    "<! Exercise 3 - Create a markdown cell for an introduction. Write an introductory sentence about the notebook such as the follows:>\n",
    "\n",
    "In this notebook, Data Science Tools and Ecosystem are summarized."
   ]
  },
  {
   "cell_type": "markdown",
   "id": "10b521e9",
   "metadata": {},
   "source": [
    "<! Exercise 10 - Insert a markdown cell to list Objectives\n",
    "\n",
    "Below the introduction cell created in Exercise 3, insert a new markdown cell to list the objectives that this notebook covered (i.e. some of the key takeaways from the course). In this new cell start with an introductory line titled: Objectives: in bold font. Then using an unordered list (bullets) indicate 3 to 5 items covered in this notebook, such as List popular languages for Data Science. >\n"
   ]
  },
  {
   "cell_type": "markdown",
   "id": "a36dc476",
   "metadata": {},
   "source": [
    "__Objectives:__\n",
    "\n",
    "+ Different tools for data science such as open source, commercial and cloud based.\n",
    "+ Different programming languages for data science such as python, R and SQL.\n",
    "+ Libraries commonly used in data science such as Pandas, SciPy, NumPy and Matplotlib.\n",
    "+ Interactive Development Environments such as RStudio, Google Colaboratory and Anaconda Environment.\n",
    "+ Introduction to Jupyter Notebook and GitHub. "
   ]
  },
  {
   "cell_type": "markdown",
   "id": "ce748a6c",
   "metadata": {},
   "source": [
    "<! Exercise 11 - Create a markdown cell to indicate the Author's name\n",
    "\n",
    "In this markdown cell markdown cell include the following text Author in H2 style heading. Include your name as regular text below the word Author.>\n",
    "\n",
    "## Author\n",
    "Shahadat Hussain"
   ]
  },
  {
   "cell_type": "markdown",
   "id": "9a00ba6c",
   "metadata": {},
   "source": [
    "<! Exercise 4 - Create a markdown cell to list data science languages\n",
    "\n",
    "Start the cell with an overview line such as: >\n",
    "    \n",
    "Some of the popular languages that Data Scientists use are:\n",
    "1. Python\n",
    "2. R\n",
    "3. SQL\n",
    "4. Scala\n",
    "    "
   ]
  },
  {
   "cell_type": "markdown",
   "id": "6d5b7bad",
   "metadata": {},
   "source": [
    "<! Exercise 5 - Create a markdown cell to list data science libraries\n",
    "\n",
    "Add an overview line to the cell like: >\n",
    "\n",
    "Some of the commonly used libraries used by Data Scientists include:\n",
    "1. Pandas\n",
    "2. SciPy\n",
    "3. NumPy\n",
    "4. Matplotlib\n"
   ]
  },
  {
   "cell_type": "markdown",
   "id": "4a5f0c2f",
   "metadata": {},
   "source": [
    "<! Exercise 6 - Create a markdown cell with a table of Data Science tools\n",
    "\n",
    "Create a single column table in this cell with the first row containing the header Data Science Tools. The subsequent three rows in the table should indicate three development environment open source tools used in data science.>\n",
    "\n",
    "|Data Science Tools|\n",
    "|------------------|\n",
    "|Anaconda          |\n",
    "|Jupyter Lab       |\n",
    "|RStudio           |\n",
    "|Google Colaboratory|"
   ]
  },
  {
   "cell_type": "markdown",
   "id": "1b9aa993",
   "metadata": {},
   "source": [
    "<! Exercise 7 - Create a markdown cell introducing arithmetic expression examples\n",
    "\n",
    "Add a line in this cell with H3 style heading with text like:\n",
    "\n",
    "Below are a few examples of evaluating arithmetic expressions in Python.>\n",
    "\n",
    "### Below are a few examples of evaluating arithmetic expressions in Python.\n",
    "+ 2+2\n",
    "+ (3*6)-12\n",
    "+ (3/2)*10\n"
   ]
  },
  {
   "cell_type": "markdown",
   "id": "58b93cc4",
   "metadata": {},
   "source": [
    "<! Exercise 8 - Create a code cell to multiply and add numbers\n",
    "\n",
    "In this code cell evaluate the expression (3*4)+5.\n",
    "Insert a comment line before the expression to explain the operation e.g.  This a simple arithmetic expression to mutiply then add integers.\n",
    "Then execute the cell to ensure the expression returns the expected output of 17.>\n"
   ]
  },
  {
   "cell_type": "code",
   "execution_count": 3,
   "id": "5622e721",
   "metadata": {},
   "outputs": [
    {
     "name": "stdout",
     "output_type": "stream",
     "text": [
      "17\n"
     ]
    }
   ],
   "source": [
    "#This a simple arithmetic expression to mutiply then add integers.\n",
    "\n",
    "print((3*4)+5)"
   ]
  },
  {
   "cell_type": "markdown",
   "id": "59419841",
   "metadata": {},
   "source": [
    "<! Exercise 9 - Create a code cell to convert minutes to hours\n",
    "\n",
    "In this code cell write an expression that converts 200 minutes into hours.\n",
    "Insert a comment line before the expression to explain the operation e.g.  This will convert 200 minutes to hours by diving by 60.\n",
    "Run the cell to evaluate the expression. >"
   ]
  },
  {
   "cell_type": "code",
   "execution_count": 4,
   "id": "7b3138cc",
   "metadata": {},
   "outputs": [
    {
     "name": "stdout",
     "output_type": "stream",
     "text": [
      "3.3333333333333335\n"
     ]
    }
   ],
   "source": [
    "# This will convert 200 minutes to hours by diving by 60. \n",
    "\n",
    "print(200/60)"
   ]
  },
  {
   "cell_type": "markdown",
   "id": "f022362f",
   "metadata": {},
   "source": []
  }
 ],
 "metadata": {
  "kernelspec": {
   "display_name": "Python 3 (ipykernel)",
   "language": "python",
   "name": "python3"
  },
  "language_info": {
   "codemirror_mode": {
    "name": "ipython",
    "version": 3
   },
   "file_extension": ".py",
   "mimetype": "text/x-python",
   "name": "python",
   "nbconvert_exporter": "python",
   "pygments_lexer": "ipython3",
   "version": "3.9.13"
  }
 },
 "nbformat": 4,
 "nbformat_minor": 5
}
